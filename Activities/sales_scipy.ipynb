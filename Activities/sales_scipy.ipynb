{
 "cells": [
  {
   "cell_type": "markdown",
   "metadata": {},
   "source": [
    "# Regressão Linear Simples"
   ]
  },
  {
   "cell_type": "markdown",
   "metadata": {},
   "source": [
    "Neste notebook será utilizada uma base de dados com informações sobre transações imobiliárias para se realizar a tarefa de predição usando regressão linear simples (somente uma entrada).\n",
    "As seguintes ações foram realizadas:\n",
    "* Usar funções do Pandas (API para análise e estruturação de dados)\n",
    "* Desenvolver uma função para computar os coeficientes de uma regressão linear simples usando a solução de forma fechada\n",
    "* Desenvolver uma função para realizar predições da saída desejada, dado o atributo de entrada\n",
    "* Utilizar a função de regressão para realizar predições de valor de venda de casas dado a metragem da mesma\n",
    "* Comparar dois diferentes modelos para predição dos valores de casas"
   ]
  },
  {
   "cell_type": "markdown",
   "metadata": {},
   "source": [
    "## Importação das bibliotecas"
   ]
  },
  {
   "cell_type": "markdown",
   "metadata": {},
   "source": [
    "Importação de bibliotecas necessárias para a execução dos comandos:\n",
    "* Pandas: para manipulação dos dados\n",
    "* Numpy: para compatibilizar o uso de dados por algumas funções\n",
    "* Datetime: para formatar um dos atributos da base de dados\n",
    "* Sklearn: para uso comparativo de funções de regressão linear"
   ]
  },
  {
   "cell_type": "code",
   "execution_count": null,
   "metadata": {},
   "outputs": [],
   "source": [
    "import pandas as pd\n",
    "import numpy as np\n",
    "from datetime import datetime\n",
    "from sklearn.linear_model import LinearRegression"
   ]
  },
  {
   "cell_type": "markdown",
   "metadata": {},
   "source": [
    "### Leitura dos dados"
   ]
  },
  {
   "cell_type": "markdown",
   "metadata": {},
   "source": [
    "O dataset contém dados de transações imobiliárias de King County, região aonde está a cidade de Seattle, USA."
   ]
  },
  {
   "cell_type": "code",
   "execution_count": null,
   "metadata": {},
   "outputs": [],
   "source": [
    "sales = pd.read_csv(\"kc_house_data.csv\")"
   ]
  },
  {
   "cell_type": "code",
   "execution_count": null,
   "metadata": {},
   "outputs": [],
   "source": [
    "sales"
   ]
  },
  {
   "cell_type": "code",
   "execution_count": null,
   "metadata": {},
   "outputs": [],
   "source": [
    "dtype_dict = {'bathrooms':float, 'waterfront':int, 'sqft_above':int, 'sqft_living15':float, 'grade':int, 'yr_renovated':int, 'price':float, 'bedrooms':float, 'zipcode':str, 'long':float, 'sqft_lot15':float, 'sqft_living':float, 'floors':str, 'condition':int, 'lat':float, 'date':str, 'sqft_basement':int, 'yr_built':int, 'id':str, 'sqft_lot':int, 'view':int}\n",
    "sales = pd.read_csv(\"kc_house_data.csv\", dtype=dtype_dict)\n",
    "train_data = pd.read_csv(\"kc_house_train_data.csv\", dtype=dtype_dict)\n",
    "test_data = pd.read_csv(\"kc_house_test_data.csv\", dtype=dtype_dict)\n",
    "\n",
    "sales[\"date\"] = pd.to_datetime(sales[\"date\"])\n",
    "train_data[\"date\"] = pd.to_datetime(train_data[\"date\"])\n",
    "test_data[\"date\"] = pd.to_datetime(test_data[\"date\"])\n"
   ]
  },
  {
   "cell_type": "markdown",
   "metadata": {},
   "source": [
    "### Teste de uso de funções"
   ]
  },
  {
   "cell_type": "markdown",
   "metadata": {},
   "source": [
    "Teste de uso de algumas funções que podem ser realizadas sobre Dataframes do Pandas. Neste caso em específico estamos testando a função para calcular a média de valores numéricas aplicada a um objeto do tipo ***pandas.core.series.Series***"
   ]
  },
  {
   "cell_type": "code",
   "execution_count": null,
   "metadata": {},
   "outputs": [],
   "source": [
    "prices = sales['price'] # extract the price column of the sales SFrame -- this is now an SArray\n",
    "avg = prices.mean() # if you just want the average, the .mean() function\n",
    "print(\"Preço médio: \" + str(avg))"
   ]
  },
  {
   "cell_type": "markdown",
   "metadata": {},
   "source": [
    "## Construindo uma função genérica de regressão linear simples"
   ]
  },
  {
   "cell_type": "markdown",
   "metadata": {},
   "source": [
    "Utilizando funções da biblioteca Numpy, podemos utilizar a solução de forma fechada para computar o slope e o intercept para uma regressão linear simples a partir de observações extraídas dos arrays input_feature e output."
   ]
  },
  {
   "cell_type": "code",
   "execution_count": null,
   "metadata": {},
   "outputs": [],
   "source": [
    "def simple_linear_regression(input_feature, output):\n",
    "    # compute the sum of input_feature and output\n",
    "    input_feature_sum = input_feature.sum() #10\n",
    "    output_sum = output.sum() #15\n",
    "    \n",
    "    #compute the number of datapoints\n",
    "    N = input_feature.size #5\n",
    "    \n",
    "    # compute the product of the output and the input_feature and its sum\n",
    "    product_input_output = (input_feature*output).sum() #40\n",
    "    \n",
    "    # compute the squared value of the input_feature and its sum\n",
    "    squared_input_feature = (input_feature**2).sum() #30\n",
    "    \n",
    "    # use the formula for the slope\n",
    "    numerator = product_input_output - (input_feature_sum * output_sum)/N #40-(150/5) = 2,5\n",
    "    denominator = squared_input_feature - (input_feature_sum * input_feature_sum)/N #30-(150/5)\n",
    "    slope = numerator/denominator\n",
    "    \n",
    "    # use the formula for the intercept\n",
    "    intercept = output_sum/N - slope * input_feature_sum/N\n",
    "    \n",
    "    \n",
    "    return (intercept, slope)"
   ]
  },
  {
   "cell_type": "markdown",
   "metadata": {},
   "source": [
    "Podemos testar se a função acima está funcionando passando para ela algo sobre o qual já sabemos a resposta. Em particular, podemos gerar um feature (atributo) e então colocar o output (saída) exatamente em uma linha: output = 1 + 1*input_feature. Desta forma sabemos que tanto o nosso slope quanto o intercept deve conter o valor 1."
   ]
  },
  {
   "cell_type": "code",
   "execution_count": null,
   "metadata": {},
   "outputs": [],
   "source": [
    "test_feature = np.array([range(5)])\n",
    "print(test_feature)\n",
    "test_output = (1 + 1*test_feature)\n",
    "print(test_output)\n",
    "(test_intercept, test_slope) =  simple_linear_regression(test_feature, test_output)\n",
    "print(\"Intercept: \" + str(round(test_intercept)))\n",
    "print(\"Slope: \" + str(round(test_slope)))"
   ]
  },
  {
   "cell_type": "markdown",
   "metadata": {},
   "source": [
    "Agora que sabemos que a função está funcionando, vamos construir um modelo de regressão para realizar a predição baseada no atributo que contém a metragem da casa (sqft_living). É importante lembrar que o modelo deve ser treinando utilizando a base train_data!"
   ]
  },
  {
   "cell_type": "code",
   "execution_count": null,
   "metadata": {},
   "outputs": [],
   "source": [
    "sqft_intercept, sqft_slope = simple_linear_regression(train_data['sqft_living'], train_data['price'])\n",
    "\n",
    "print(\"Intercept: \" + str(sqft_intercept))\n",
    "print(\"Slope: \" + str(sqft_slope))"
   ]
  },
  {
   "cell_type": "markdown",
   "metadata": {},
   "source": [
    "O código abaixo faz a mesma coisa que o código acima. Contudo, estamos fazendo uso de funções pré-existentes da API do Scikit-learn para criar um modelo de regressão linear simples. Observe que tanto o intercept quanto o slope contém os mesmos valores encontrados por nossa função."
   ]
  },
  {
   "cell_type": "code",
   "execution_count": null,
   "metadata": {},
   "outputs": [],
   "source": [
    "# Create linear regression object\n",
    "regr = LinearRegression()\n",
    "regr.fit(train_data[\"sqft_living\"].values.reshape(train_data[\"sqft_living\"].size, 1), train_data[\"price\"])\n",
    "print(\"Intercept: \", regr.intercept_)\n",
    "print(\"Slope: \", regr.coef_[0])"
   ]
  },
  {
   "cell_type": "markdown",
   "metadata": {},
   "source": [
    "## Realizando a predição de valores"
   ]
  },
  {
   "cell_type": "markdown",
   "metadata": {},
   "source": [
    "Agora que temos os parâmetros do modelo: intercept e slope, podemos realizar as predições. Usando numpy.array fica fácil multiplicá-lo por uma constante e adicionar a ele um outro valor constante."
   ]
  },
  {
   "cell_type": "code",
   "execution_count": null,
   "metadata": {},
   "outputs": [],
   "source": [
    "def get_regression_predictions(input_feature, intercept, slope):\n",
    "    # calculate the predicted values:\n",
    "    predicted_values = intercept + slope*input_feature\n",
    "    \n",
    "    return predicted_values"
   ]
  },
  {
   "cell_type": "markdown",
   "metadata": {},
   "source": [
    "Agora que podemos realizar predição de dados com o slope e o intercept, vamos fazer uma predição. Vamos tentar encontrar o valor estimado do preço de uma casa com 2.650 m2 a partir da metragem da mesma, de acordo com o modelo de regressão estimado acima."
   ]
  },
  {
   "cell_type": "code",
   "execution_count": null,
   "metadata": {},
   "outputs": [],
   "source": [
    "my_house_sqft = 2640.00\n",
    "estimated_price = get_regression_predictions(my_house_sqft, sqft_intercept, sqft_slope)\n",
    "print(\"O preço destimado de uma casa com %d metros quadrados é $%.2f\" % (my_house_sqft, estimated_price))"
   ]
  },
  {
   "cell_type": "markdown",
   "metadata": {},
   "source": [
    "## Método de mínimos quadrados (RSS)"
   ]
  },
  {
   "cell_type": "markdown",
   "metadata": {},
   "source": [
    "Agora que temos um modelo que pode realizar predições, vamos avaliar o modelo usando o método de mínimos quadrados (RSS). Lembre-se que RSS é a soma dos quadrados dos erros residuais e os residuais são os valores de diferença entre a saída prevista e a saída real."
   ]
  },
  {
   "cell_type": "code",
   "execution_count": null,
   "metadata": {},
   "outputs": [],
   "source": [
    "def get_residual_sum_of_squares(input_feature, output, intercept, slope):\n",
    "    # First get the predictions\n",
    "    predictions  = get_regression_predictions(input_feature, intercept, slope)\n",
    "\n",
    "    # then compute the residuals (since we are squaring it doesn't matter which order you subtract)\n",
    "    predicted_values = output - (intercept + slope*input_feature)\n",
    "\n",
    "    # square the residuals and add them up\n",
    "    RSS = float((predicted_values**2).sum())\n",
    "\n",
    "    return(RSS)"
   ]
  },
  {
   "cell_type": "markdown",
   "metadata": {},
   "source": [
    "Vamos testar nossa função get_residual_sum_of_squares aplicando-a ao modelo de teste aonde os dados estão exatamente em uma linha. Desde que eles estão exatamente em uma linha, a soma residual dos quadrados deve ser zero !"
   ]
  },
  {
   "cell_type": "code",
   "execution_count": null,
   "metadata": {},
   "outputs": [],
   "source": [
    "print(get_residual_sum_of_squares(test_feature, test_output, test_intercept, test_slope)) # should be 0.0"
   ]
  },
  {
   "cell_type": "markdown",
   "metadata": {},
   "source": [
    "Agora vamos usar a função para calcular o RSS sobre os dados de treinamento do modelo calculado acima."
   ]
  },
  {
   "cell_type": "code",
   "execution_count": null,
   "metadata": {},
   "outputs": [],
   "source": [
    "rss_prices_on_sqft = get_residual_sum_of_squares(train_data['sqft_living'], train_data['price'], sqft_intercept, sqft_slope)\n",
    "print('O erro RSS para predição de preços baseados na metragem é: ' + str(rss_prices_on_sqft))"
   ]
  },
  {
   "cell_type": "markdown",
   "metadata": {},
   "source": [
    "## Prevendo a metragem dado o preço"
   ]
  },
  {
   "cell_type": "markdown",
   "metadata": {},
   "source": [
    "E se quisermos prever a metragem dado o preço ? Desde que nós tenhamos uma equação y = a + b\\*x nós podemos resolver a função para x. Assim se tivermos o intercept (a) e o slope (b) e o preço (y) nós podemos computar a metragem estimada."
   ]
  },
  {
   "cell_type": "code",
   "execution_count": null,
   "metadata": {},
   "outputs": [],
   "source": [
    "def inverse_regression_predictions(output, intercept, slope):\n",
    "    # solve output = intercept + slope*input_feature for input_feature. Use this equation to compute the inverse predictions:\n",
    "    estimated_feature = (output-intercept)/float(slope)\n",
    "\n",
    "    return estimated_feature"
   ]
  },
  {
   "cell_type": "markdown",
   "metadata": {},
   "source": [
    "Agora que temos uma função para computar a metragem dado o preço a partir do nosso modelo de regressão simples, vamos ver o quanto podemos esperar de uma casa que custa $800.000."
   ]
  },
  {
   "cell_type": "code",
   "execution_count": null,
   "metadata": {},
   "outputs": [],
   "source": [
    "my_house_price = 800000\n",
    "estimated_squarefeet = inverse_regression_predictions(my_house_price, sqft_intercept, sqft_slope)\n",
    "print(\"A metragem estimada para uma casa que vale $%.2f é de %dm2\" % (my_house_price, estimated_squarefeet))"
   ]
  },
  {
   "cell_type": "markdown",
   "metadata": {},
   "source": [
    "## Novo modelo: estimar preços a partir da quantidade de quartos"
   ]
  },
  {
   "cell_type": "markdown",
   "metadata": {},
   "source": [
    "Nós criamos um modelo para prever preços de casas usando a metragem, mas há vários outros atributos no DataFrame.\n",
    "Vamos usar a nossa função de regresão linear simples para estimar os parâmetros de regressão a partir da predição de preços baseados no número de quartos. Vamos utilizar os dados de treinamento."
   ]
  },
  {
   "cell_type": "code",
   "execution_count": null,
   "metadata": {},
   "outputs": [],
   "source": [
    "# Estimate the slope and intercept for predicting 'price' based on 'bedrooms'\n",
    "bedrooms_intercept, bedrooms_slope = simple_linear_regression(train_data['bedrooms'], train_data['price'])\n",
    "\n",
    "print(\"Intercept: \" + str(bedrooms_intercept))\n",
    "print(\"Slope: \" + str(bedrooms_slope))"
   ]
  },
  {
   "cell_type": "markdown",
   "metadata": {},
   "source": [
    "## Testando o algoritmo de regressão linear"
   ]
  },
  {
   "cell_type": "markdown",
   "metadata": {},
   "source": [
    "Agora temos dois modelos para predição do preço de uma casa. Como saber qual é o melhor ? Vamos calcular o RSS sobre os dados de test (lembre-se que estes dados não foram envolvidos no modelo de aprendizado). Compute o RSS a partir da predição de preços usando o número de quartos e da predição de preços usando a metragem."
   ]
  },
  {
   "cell_type": "code",
   "execution_count": null,
   "metadata": {},
   "outputs": [],
   "source": [
    "# Compute RSS when using bedrooms on TEST data:\n",
    "rss_prices_on_bedrooms = get_residual_sum_of_squares(test_data['bedrooms'], test_data['price'], bedrooms_intercept, bedrooms_slope)\n",
    "print('O erro RSS para predição de preços baseados na quantidade de quartos é: ' + str(rss_prices_on_bedrooms))"
   ]
  },
  {
   "cell_type": "code",
   "execution_count": null,
   "metadata": {},
   "outputs": [],
   "source": [
    "# Compute RSS when using squarefeet on TEST data:\n",
    "rss_prices_on_sqft = get_residual_sum_of_squares(test_data['sqft_living'], test_data['price'], sqft_intercept, sqft_slope)\n",
    "print('O erro RSS para predição de preços baseados na metragem é: ' + str(rss_prices_on_sqft))"
   ]
  },
  {
   "cell_type": "code",
   "execution_count": null,
   "metadata": {},
   "outputs": [],
   "source": []
  }
 ],
 "metadata": {
  "kernelspec": {
   "display_name": "Python 3",
   "language": "python",
   "name": "python3"
  },
  "language_info": {
   "codemirror_mode": {
    "name": "ipython",
    "version": 3
   },
   "file_extension": ".py",
   "mimetype": "text/x-python",
   "name": "python",
   "nbconvert_exporter": "python",
   "pygments_lexer": "ipython3",
   "version": "3.10.12"
  }
 },
 "nbformat": 4,
 "nbformat_minor": 2
}
